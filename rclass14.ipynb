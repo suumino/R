{
  "nbformat": 4,
  "nbformat_minor": 0,
  "metadata": {
    "colab": {
      "name": "rclass14.ipynb",
      "provenance": [],
      "authorship_tag": "ABX9TyPetJCnMhQy1XXRWaZnAArC",
      "include_colab_link": true
    },
    "kernelspec": {
      "name": "ir",
      "display_name": "R"
    },
    "language_info": {
      "name": "R"
    }
  },
  "cells": [
    {
      "cell_type": "markdown",
      "metadata": {
        "id": "view-in-github",
        "colab_type": "text"
      },
      "source": [
        "<a href=\"https://colab.research.google.com/github/suumino/R/blob/main/rclass14.ipynb\" target=\"_parent\"><img src=\"https://colab.research.google.com/assets/colab-badge.svg\" alt=\"Open In Colab\"/></a>"
      ]
    },
    {
      "cell_type": "code",
      "metadata": {
        "id": "Y8-tRl-9T2tu"
      },
      "source": [
        "# 치킨집이 가장 많은 지역을 찾아보자\n",
        "# 그림의 크기로 많은 지역을 표*현 뀨뀨뀨뀨뀨뀨뀨\n",
        "# 치킨집 데이터 구하기\n",
        "# www.localdata.kr"
      ],
      "execution_count": 2,
      "outputs": []
    },
    {
      "cell_type": "code",
      "metadata": {
        "colab": {
          "base_uri": "https://localhost:8080/"
        },
        "id": "rTy_EUpxhHsz",
        "outputId": "7b3d25fc-8e94-48a5-84a8-be073c7c4c2d"
      },
      "source": [
        "#한글이 깨지는 현상을 방지하기 위해서 showtext 라는 패키지를 이용하여 한글 글꼴을 추가한다.\n",
        "install.packages('showtext', repos='http://cran.rstudio.com/')\n",
        "\n",
        "#패키지를 올리고(?)\n",
        "library(showtext)\n",
        "\n",
        "#바로 이렇게 구글폰트를 다운 받습니다.\n",
        "# 다운 받을 폰트 이름 : Noto Sans KR, 내가 사용할 이름 : notosanskr\n",
        "font_add_google('Noto Sans KR', 'notosanskr')\n",
        "\n",
        "#showtext 글꼴을 자동으로 사용하겠다.\n",
        "showtext_auto()\n",
        "font_add_google('Noto Sans KR', 'notosanskr')\n"
      ],
      "execution_count": 3,
      "outputs": [
        {
          "output_type": "stream",
          "text": [
            "Installing package into ‘/usr/local/lib/R/site-library’\n",
            "(as ‘lib’ is unspecified)\n",
            "\n",
            "Loading required package: sysfonts\n",
            "\n",
            "Loading required package: showtextdb\n",
            "\n"
          ],
          "name": "stderr"
        }
      ]
    },
    {
      "cell_type": "code",
      "metadata": {
        "id": "WvIkF9ZfXGEM"
      },
      "source": [
        "library(readxl)"
      ],
      "execution_count": 4,
      "outputs": []
    },
    {
      "cell_type": "code",
      "metadata": {
        "id": "q4WU8P5ZXH5O"
      },
      "source": [
        "# 변수에 자료 저장 변수에 자료 저장\n",
        "ck <- read_excel('치킨집_가공.xlsx')"
      ],
      "execution_count": 22,
      "outputs": []
    },
    {
      "cell_type": "code",
      "metadata": {
        "colab": {
          "base_uri": "https://localhost:8080/",
          "height": 271
        },
        "id": "w4G5ooAMXVgp",
        "outputId": "864bcd79-3923-4da4-b8fa-d0d1560665c7"
      },
      "source": [
        "head(ck)"
      ],
      "execution_count": 23,
      "outputs": [
        {
          "output_type": "display_data",
          "data": {
            "text/plain": [
              "  소재지전체주소                                              \n",
              "1 서울특별시 서대문구 창천동 52-20번지 2층                    \n",
              "2 서울특별시 서대문구 창천동 53-83번지 (지상1층)              \n",
              "3 서울특별시 서대문구 창천동 53-3번지 2층                     \n",
              "4 서울특별시 서대문구 남가좌동 377번지 삼성아파트 상가동 101호\n",
              "5 서울특별시 서대문구 연희동 134-28번지 지하1층               \n",
              "6 서울특별시 서대문구 창천동 62-53번지 1층 일부               \n",
              "  사업장명            \n",
              "1 쪼리375             \n",
              "2 고향                \n",
              "3 찬수씨, 싼술을부탁해\n",
              "4 케리홈치킨          \n",
              "5 연희38애비뉴        \n",
              "6 닭꼬치야            "
            ],
            "text/latex": "A tibble: 6 × 2\n\\begin{tabular}{ll}\n 소재지전체주소 & 사업장명\\\\\n <chr> & <chr>\\\\\n\\hline\n\t 서울특별시 서대문구 창천동 52-20번지 2층                     & 쪼리375             \\\\\n\t 서울특별시 서대문구 창천동 53-83번지 (지상1층)               & 고향                \\\\\n\t 서울특별시 서대문구 창천동 53-3번지 2층                      & 찬수씨, 싼술을부탁해\\\\\n\t 서울특별시 서대문구 남가좌동 377번지 삼성아파트 상가동 101호 & 케리홈치킨          \\\\\n\t 서울특별시 서대문구 연희동 134-28번지 지하1층                & 연희38애비뉴        \\\\\n\t 서울특별시 서대문구 창천동 62-53번지 1층 일부                & 닭꼬치야            \\\\\n\\end{tabular}\n",
            "text/markdown": "\nA tibble: 6 × 2\n\n| 소재지전체주소 &lt;chr&gt; | 사업장명 &lt;chr&gt; |\n|---|---|\n| 서울특별시 서대문구 창천동 52-20번지 2층                     | 쪼리375              |\n| 서울특별시 서대문구 창천동 53-83번지 (지상1층)               | 고향                 |\n| 서울특별시 서대문구 창천동 53-3번지 2층                      | 찬수씨, 싼술을부탁해 |\n| 서울특별시 서대문구 남가좌동 377번지 삼성아파트 상가동 101호 | 케리홈치킨           |\n| 서울특별시 서대문구 연희동 134-28번지 지하1층                | 연희38애비뉴         |\n| 서울특별시 서대문구 창천동 62-53번지 1층 일부                | 닭꼬치야             |\n\n",
            "text/html": [
              "<table class=\"dataframe\">\n",
              "<caption>A tibble: 6 × 2</caption>\n",
              "<thead>\n",
              "\t<tr><th scope=col>소재지전체주소</th><th scope=col>사업장명</th></tr>\n",
              "\t<tr><th scope=col>&lt;chr&gt;</th><th scope=col>&lt;chr&gt;</th></tr>\n",
              "</thead>\n",
              "<tbody>\n",
              "\t<tr><td>서울특별시 서대문구 창천동 52-20번지 2층                    </td><td>쪼리375             </td></tr>\n",
              "\t<tr><td>서울특별시 서대문구 창천동 53-83번지 (지상1층)              </td><td>고향                </td></tr>\n",
              "\t<tr><td>서울특별시 서대문구 창천동 53-3번지 2층                     </td><td>찬수씨, 싼술을부탁해</td></tr>\n",
              "\t<tr><td>서울특별시 서대문구 남가좌동 377번지 삼성아파트 상가동 101호</td><td>케리홈치킨          </td></tr>\n",
              "\t<tr><td>서울특별시 서대문구 연희동 134-28번지 지하1층               </td><td>연희38애비뉴        </td></tr>\n",
              "\t<tr><td>서울특별시 서대문구 창천동 62-53번지 1층 일부               </td><td>닭꼬치야            </td></tr>\n",
              "</tbody>\n",
              "</table>\n"
            ]
          },
          "metadata": {
            "tags": []
          }
        }
      ]
    },
    {
      "cell_type": "code",
      "metadata": {
        "id": "keX9aql7Yozo"
      },
      "source": [
        "# 동별로 추출하여 상세 주소는 제거 substr()를 사용하여 동까지만 남기고 나머지 삭제\n",
        "\n",
        "addr <- substr(ck$'소재지전체주소', 11, 16)  # substr(데이터 시작 끝) : 데이터 잘라냄"
      ],
      "execution_count": 24,
      "outputs": []
    },
    {
      "cell_type": "code",
      "metadata": {
        "colab": {
          "base_uri": "https://localhost:8080/",
          "height": 34
        },
        "id": "Xeds1aDzcL29",
        "outputId": "ca93c173-dc3d-41ab-b8ce-aaaa1cc80587"
      },
      "source": [
        "head(addr)"
      ],
      "execution_count": 25,
      "outputs": [
        {
          "output_type": "display_data",
          "data": {
            "text/plain": [
              "[1] \" 창천동 5\"  \" 창천동 5\"  \" 창천동 5\"  \" 남가좌동 \" \" 연희동 1\" \n",
              "[6] \" 창천동 6\" "
            ],
            "text/latex": "\\begin{enumerate*}\n\\item ' 창천동 5'\n\\item ' 창천동 5'\n\\item ' 창천동 5'\n\\item ' 남가좌동 '\n\\item ' 연희동 1'\n\\item ' 창천동 6'\n\\end{enumerate*}\n",
            "text/markdown": "1. ' 창천동 5'\n2. ' 창천동 5'\n3. ' 창천동 5'\n4. ' 남가좌동 '\n5. ' 연희동 1'\n6. ' 창천동 6'\n\n\n",
            "text/html": [
              "<style>\n",
              ".list-inline {list-style: none; margin:0; padding: 0}\n",
              ".list-inline>li {display: inline-block}\n",
              ".list-inline>li:not(:last-child)::after {content: \"\\00b7\"; padding: 0 .5ex}\n",
              "</style>\n",
              "<ol class=list-inline><li>' 창천동 5'</li><li>' 창천동 5'</li><li>' 창천동 5'</li><li>' 남가좌동 '</li><li>' 연희동 1'</li><li>' 창천동 6'</li></ol>\n"
            ]
          },
          "metadata": {
            "tags": []
          }
        }
      ]
    },
    {
      "cell_type": "code",
      "metadata": {
        "colab": {
          "base_uri": "https://localhost:8080/",
          "height": 50
        },
        "id": "I9W2gklYXOwp",
        "outputId": "7a5c145b-148f-4ae4-ce1f-6111ce73e641"
      },
      "source": [
        "# gsub(): 숫자들과 공백 모두 삭제\n",
        "\n",
        "addr_num <- gsub('[0-9]', '', addr) # gsub(찾을값, 바꿀밧, 어디에)\n",
        "head(addr_num)\n",
        "addr_trim <- gsub(' ', '', addr_num)\n",
        "head(addr_trim)"
      ],
      "execution_count": 26,
      "outputs": [
        {
          "output_type": "display_data",
          "data": {
            "text/plain": [
              "[1] \" 창천동 \"   \" 창천동 \"   \" 창천동 \"   \" 남가좌동 \" \" 연희동 \"  \n",
              "[6] \" 창천동 \"  "
            ],
            "text/latex": "\\begin{enumerate*}\n\\item ' 창천동 '\n\\item ' 창천동 '\n\\item ' 창천동 '\n\\item ' 남가좌동 '\n\\item ' 연희동 '\n\\item ' 창천동 '\n\\end{enumerate*}\n",
            "text/markdown": "1. ' 창천동 '\n2. ' 창천동 '\n3. ' 창천동 '\n4. ' 남가좌동 '\n5. ' 연희동 '\n6. ' 창천동 '\n\n\n",
            "text/html": [
              "<style>\n",
              ".list-inline {list-style: none; margin:0; padding: 0}\n",
              ".list-inline>li {display: inline-block}\n",
              ".list-inline>li:not(:last-child)::after {content: \"\\00b7\"; padding: 0 .5ex}\n",
              "</style>\n",
              "<ol class=list-inline><li>' 창천동 '</li><li>' 창천동 '</li><li>' 창천동 '</li><li>' 남가좌동 '</li><li>' 연희동 '</li><li>' 창천동 '</li></ol>\n"
            ]
          },
          "metadata": {
            "tags": []
          }
        },
        {
          "output_type": "display_data",
          "data": {
            "text/plain": [
              "[1] \"창천동\"   \"창천동\"   \"창천동\"   \"남가좌동\" \"연희동\"   \"창천동\"  "
            ],
            "text/latex": "\\begin{enumerate*}\n\\item '창천동'\n\\item '창천동'\n\\item '창천동'\n\\item '남가좌동'\n\\item '연희동'\n\\item '창천동'\n\\end{enumerate*}\n",
            "text/markdown": "1. '창천동'\n2. '창천동'\n3. '창천동'\n4. '남가좌동'\n5. '연희동'\n6. '창천동'\n\n\n",
            "text/html": [
              "<style>\n",
              ".list-inline {list-style: none; margin:0; padding: 0}\n",
              ".list-inline>li {display: inline-block}\n",
              ".list-inline>li:not(:last-child)::after {content: \"\\00b7\"; padding: 0 .5ex}\n",
              "</style>\n",
              "<ol class=list-inline><li>'창천동'</li><li>'창천동'</li><li>'창천동'</li><li>'남가좌동'</li><li>'연희동'</li><li>'창천동'</li></ol>\n"
            ]
          },
          "metadata": {
            "tags": []
          }
        }
      ]
    },
    {
      "cell_type": "code",
      "metadata": {
        "colab": {
          "base_uri": "https://localhost:8080/",
          "height": 271
        },
        "id": "yjMCHQpjdP3D",
        "outputId": "3a305b6c-a40a-4449-889d-3b778aaa7e23"
      },
      "source": [
        "# table(): 동별 업소 개수 확인\n",
        "\n",
        "library(dplyr)\n",
        "addr_count <- addr_trim %>% table() %>% data.frame()\n",
        "head(addr_count)"
      ],
      "execution_count": 27,
      "outputs": [
        {
          "output_type": "display_data",
          "data": {
            "text/plain": [
              "  .        Freq\n",
              "1 남가좌동 282 \n",
              "2 냉천동    24 \n",
              "3 대신동     3 \n",
              "4 대현동    69 \n",
              "5 미근동     6 \n",
              "6 북가좌동 155 "
            ],
            "text/latex": "A data.frame: 6 × 2\n\\begin{tabular}{r|ll}\n  & . & Freq\\\\\n  & <fct> & <int>\\\\\n\\hline\n\t1 & 남가좌동 & 282\\\\\n\t2 & 냉천동   &  24\\\\\n\t3 & 대신동   &   3\\\\\n\t4 & 대현동   &  69\\\\\n\t5 & 미근동   &   6\\\\\n\t6 & 북가좌동 & 155\\\\\n\\end{tabular}\n",
            "text/markdown": "\nA data.frame: 6 × 2\n\n| <!--/--> | . &lt;fct&gt; | Freq &lt;int&gt; |\n|---|---|---|\n| 1 | 남가좌동 | 282 |\n| 2 | 냉천동   |  24 |\n| 3 | 대신동   |   3 |\n| 4 | 대현동   |  69 |\n| 5 | 미근동   |   6 |\n| 6 | 북가좌동 | 155 |\n\n",
            "text/html": [
              "<table class=\"dataframe\">\n",
              "<caption>A data.frame: 6 × 2</caption>\n",
              "<thead>\n",
              "\t<tr><th></th><th scope=col>.</th><th scope=col>Freq</th></tr>\n",
              "\t<tr><th></th><th scope=col>&lt;fct&gt;</th><th scope=col>&lt;int&gt;</th></tr>\n",
              "</thead>\n",
              "<tbody>\n",
              "\t<tr><th scope=row>1</th><td>남가좌동</td><td>282</td></tr>\n",
              "\t<tr><th scope=row>2</th><td>냉천동  </td><td> 24</td></tr>\n",
              "\t<tr><th scope=row>3</th><td>대신동  </td><td>  3</td></tr>\n",
              "\t<tr><th scope=row>4</th><td>대현동  </td><td> 69</td></tr>\n",
              "\t<tr><th scope=row>5</th><td>미근동  </td><td>  6</td></tr>\n",
              "\t<tr><th scope=row>6</th><td>북가좌동</td><td>155</td></tr>\n",
              "</tbody>\n",
              "</table>\n"
            ]
          },
          "metadata": {
            "tags": []
          }
        }
      ]
    },
    {
      "cell_type": "code",
      "metadata": {
        "colab": {
          "base_uri": "https://localhost:8080/"
        },
        "id": "kLjF48tneTEk",
        "outputId": "f119a974-6cc7-417d-987f-b72b69c2c452"
      },
      "source": [
        "install.packages('treemap')\n",
        "library(treemap)"
      ],
      "execution_count": 28,
      "outputs": [
        {
          "output_type": "stream",
          "text": [
            "Installing package into ‘/usr/local/lib/R/site-library’\n",
            "(as ‘lib’ is unspecified)\n",
            "\n"
          ],
          "name": "stderr"
        }
      ]
    },
    {
      "cell_type": "code",
      "metadata": {
        "colab": {
          "base_uri": "https://localhost:8080/",
          "height": 437
        },
        "id": "AjlGoY1Ie8Mw",
        "outputId": "1891b05d-c320-43fd-9cdf-eaba12e929d9"
      },
      "source": [
        "treemap(addr_count, index = '.',  vSize='Freq', title = '서대문구 동별 치킨집 분포')"
      ],
      "execution_count": 29,
      "outputs": [
        {
          "output_type": "display_data",
          "data": {
            "image/png": "[encoded data removed]",
            "text/plain": [
              "plot without title"
            ]
          },
          "metadata": {
            "tags": [],
            "image/png": {
              "width": 420,
              "height": 420
            }
          }
        }
      ]
    },
    {
      "cell_type": "code",
      "metadata": {
        "id": "DVUfkO5lmKB9"
      },
      "source": [
        ""
      ],
      "execution_count": null,
      "outputs": []
    }
  ]
}