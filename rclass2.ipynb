{
 "cells": [
  {
   "cell_type": "code",
   "id": "further-rating",
   "metadata": {},
   "outputs": [
    {
     "data": {
      "text/html": [
       "'logical'"
      ],
      "text/latex": [
       "'logical'"
      ],
      "text/markdown": [
       "'logical'"
      ],
      "text/plain": [
       "[1] \"logical\""
      ]
     },
     "metadata": {},
     "output_type": "display_data"
    },
    {
     "data": {
      "text/html": [
       "'logical'"
      ],
      "text/latex": [
       "'logical'"
      ],
      "text/markdown": [
       "'logical'"
      ],
      "text/plain": [
       "[1] \"logical\""
      ]
     },
     "metadata": {},
     "output_type": "display_data"
    }
   ],
   "source": [
    "x <- TRUE   # alt-\n",
    "y <- FALSE\n",
    "class(x);class(y)"
   ]
  },
  {
   "cell_type": "code",
   "execution_count": 4,
   "id": "lightweight-pledge",
   "metadata": {},
   "outputs": [
    {
     "data": {
      "text/html": [
       "<table>\n",
       "<tbody>\n",
       "\t<tr><td>1 </td><td> 6</td><td>11</td><td>16</td></tr>\n",
       "\t<tr><td>2 </td><td> 7</td><td>12</td><td>17</td></tr>\n",
       "\t<tr><td>3 </td><td> 8</td><td>13</td><td>18</td></tr>\n",
       "\t<tr><td>4 </td><td> 9</td><td>14</td><td>19</td></tr>\n",
       "\t<tr><td>5 </td><td>10</td><td>15</td><td>20</td></tr>\n",
       "</tbody>\n",
       "</table>\n"
      ],
      "text/latex": [
       "\\begin{tabular}{llll}\n",
       "\t 1  &  6 & 11 & 16\\\\\n",
       "\t 2  &  7 & 12 & 17\\\\\n",
       "\t 3  &  8 & 13 & 18\\\\\n",
       "\t 4  &  9 & 14 & 19\\\\\n",
       "\t 5  & 10 & 15 & 20\\\\\n",
       "\\end{tabular}\n"
      ],
      "text/markdown": [
       "\n",
       "| 1  |  6 | 11 | 16 |\n",
       "| 2  |  7 | 12 | 17 |\n",
       "| 3  |  8 | 13 | 18 |\n",
       "| 4  |  9 | 14 | 19 |\n",
       "| 5  | 10 | 15 | 20 |\n",
       "\n"
      ],
      "text/plain": [
       "     [,1] [,2] [,3] [,4]\n",
       "[1,] 1     6   11   16  \n",
       "[2,] 2     7   12   17  \n",
       "[3,] 3     8   13   18  \n",
       "[4,] 4     9   14   19  \n",
       "[5,] 5    10   15   20  "
      ]
     },
     "metadata": {},
     "output_type": "display_data"
    },
    {
     "data": {
      "text/html": [
       "'matrix'"
      ],
      "text/latex": [
       "'matrix'"
      ],
      "text/markdown": [
       "'matrix'"
      ],
      "text/plain": [
       "[1] \"matrix\""
      ]
     },
     "metadata": {},
     "output_type": "display_data"
    }
   ],
   "source": [
    "x <- matrix(1:20, 5, 4)\n",
    "x\n",
    "class(x)"
   ]
  },
  {
   "cell_type": "code",
   "execution_count": 5,
   "id": "brown-italian",
   "metadata": {},
   "outputs": [
    {
     "data": {
      "text/html": [
       "6"
      ],
      "text/latex": [
       "6"
      ],
      "text/markdown": [
       "6"
      ],
      "text/plain": [
       "[1] 6"
      ]
     },
     "metadata": {},
     "output_type": "display_data"
    }
   ],
   "source": [
    "x[1, 2]   # 행, 열 순으로 지정해서 한 값만 뽑아내기 가능"
   ]
  },
  {
   "cell_type": "code",
   "execution_count": 6,
   "id": "excited-dress",
   "metadata": {},
   "outputs": [
    {
     "data": {
      "text/html": [
       "<table>\n",
       "<tbody>\n",
       "\t<tr><td> 1</td><td> 2</td><td> 3</td><td> 4</td></tr>\n",
       "\t<tr><td> 5</td><td> 6</td><td> 7</td><td> 8</td></tr>\n",
       "\t<tr><td> 9</td><td>10</td><td>11</td><td>12</td></tr>\n",
       "\t<tr><td>13</td><td>14</td><td>15</td><td>16</td></tr>\n",
       "\t<tr><td>17</td><td>18</td><td>19</td><td>20</td></tr>\n",
       "</tbody>\n",
       "</table>\n"
      ],
      "text/latex": [
       "\\begin{tabular}{llll}\n",
       "\t  1 &  2 &  3 &  4\\\\\n",
       "\t  5 &  6 &  7 &  8\\\\\n",
       "\t  9 & 10 & 11 & 12\\\\\n",
       "\t 13 & 14 & 15 & 16\\\\\n",
       "\t 17 & 18 & 19 & 20\\\\\n",
       "\\end{tabular}\n"
      ],
      "text/markdown": [
       "\n",
       "|  1 |  2 |  3 |  4 |\n",
       "|  5 |  6 |  7 |  8 |\n",
       "|  9 | 10 | 11 | 12 |\n",
       "| 13 | 14 | 15 | 16 |\n",
       "| 17 | 18 | 19 | 20 |\n",
       "\n"
      ],
      "text/plain": [
       "     [,1] [,2] [,3] [,4]\n",
       "[1,]  1    2    3    4  \n",
       "[2,]  5    6    7    8  \n",
       "[3,]  9   10   11   12  \n",
       "[4,] 13   14   15   16  \n",
       "[5,] 17   18   19   20  "
      ]
     },
     "metadata": {},
     "output_type": "display_data"
    }
   ],
   "source": [
    "matrix(1:20, 5, 4, byrow = TRUE)   # 행 먼저 채우고 열 채우는 방법"
   ]
  },
  {
   "cell_type": "code",
   "execution_count": 9,
   "id": "hybrid-university",
   "metadata": {},
   "outputs": [
    {
     "data": {
      "text/html": [
       "<ol class=list-inline>\n",
       "\t<li>1</li>\n",
       "\t<li>2</li>\n",
       "\t<li>1</li>\n",
       "\t<li>2</li>\n",
       "\t<li>1</li>\n",
       "\t<li>2</li>\n",
       "\t<li>1</li>\n",
       "\t<li>2</li>\n",
       "\t<li>1</li>\n",
       "\t<li>2</li>\n",
       "\t<li>1</li>\n",
       "\t<li>2</li>\n",
       "\t<li>1</li>\n",
       "\t<li>2</li>\n",
       "\t<li>1</li>\n",
       "\t<li>2</li>\n",
       "\t<li>1</li>\n",
       "\t<li>2</li>\n",
       "\t<li>1</li>\n",
       "\t<li>2</li>\n",
       "\t<li>1</li>\n",
       "\t<li>2</li>\n",
       "\t<li>1</li>\n",
       "\t<li>2</li>\n",
       "\t<li>1</li>\n",
       "\t<li>2</li>\n",
       "\t<li>1</li>\n",
       "\t<li>2</li>\n",
       "\t<li>1</li>\n",
       "\t<li>2</li>\n",
       "\t<li>1</li>\n",
       "\t<li>2</li>\n",
       "\t<li>1</li>\n",
       "\t<li>2</li>\n",
       "\t<li>1</li>\n",
       "\t<li>2</li>\n",
       "\t<li>1</li>\n",
       "\t<li>2</li>\n",
       "\t<li>1</li>\n",
       "\t<li>2</li>\n",
       "</ol>\n"
      ],
      "text/latex": [
       "\\begin{enumerate*}\n",
       "\\item 1\n",
       "\\item 2\n",
       "\\item 1\n",
       "\\item 2\n",
       "\\item 1\n",
       "\\item 2\n",
       "\\item 1\n",
       "\\item 2\n",
       "\\item 1\n",
       "\\item 2\n",
       "\\item 1\n",
       "\\item 2\n",
       "\\item 1\n",
       "\\item 2\n",
       "\\item 1\n",
       "\\item 2\n",
       "\\item 1\n",
       "\\item 2\n",
       "\\item 1\n",
       "\\item 2\n",
       "\\item 1\n",
       "\\item 2\n",
       "\\item 1\n",
       "\\item 2\n",
       "\\item 1\n",
       "\\item 2\n",
       "\\item 1\n",
       "\\item 2\n",
       "\\item 1\n",
       "\\item 2\n",
       "\\item 1\n",
       "\\item 2\n",
       "\\item 1\n",
       "\\item 2\n",
       "\\item 1\n",
       "\\item 2\n",
       "\\item 1\n",
       "\\item 2\n",
       "\\item 1\n",
       "\\item 2\n",
       "\\end{enumerate*}\n"
      ],
      "text/markdown": [
       "1. 1\n",
       "2. 2\n",
       "3. 1\n",
       "4. 2\n",
       "5. 1\n",
       "6. 2\n",
       "7. 1\n",
       "8. 2\n",
       "9. 1\n",
       "10. 2\n",
       "11. 1\n",
       "12. 2\n",
       "13. 1\n",
       "14. 2\n",
       "15. 1\n",
       "16. 2\n",
       "17. 1\n",
       "18. 2\n",
       "19. 1\n",
       "20. 2\n",
       "21. 1\n",
       "22. 2\n",
       "23. 1\n",
       "24. 2\n",
       "25. 1\n",
       "26. 2\n",
       "27. 1\n",
       "28. 2\n",
       "29. 1\n",
       "30. 2\n",
       "31. 1\n",
       "32. 2\n",
       "33. 1\n",
       "34. 2\n",
       "35. 1\n",
       "36. 2\n",
       "37. 1\n",
       "38. 2\n",
       "39. 1\n",
       "40. 2\n",
       "\n",
       "\n"
      ],
      "text/plain": [
       ", , 1\n",
       "\n",
       "     [,1] [,2] [,3] [,4]\n",
       "[1,]    1    2    1    2\n",
       "[2,]    2    1    2    1\n",
       "[3,]    1    2    1    2\n",
       "[4,]    2    1    2    1\n",
       "[5,]    1    2    1    2\n",
       "\n",
       ", , 2\n",
       "\n",
       "     [,1] [,2] [,3] [,4]\n",
       "[1,]    1    2    1    2\n",
       "[2,]    2    1    2    1\n",
       "[3,]    1    2    1    2\n",
       "[4,]    2    1    2    1\n",
       "[5,]    1    2    1    2\n"
      ]
     },
     "metadata": {},
     "output_type": "display_data"
    },
    {
     "data": {
      "text/html": [
       "'array'"
      ],
      "text/latex": [
       "'array'"
      ],
      "text/markdown": [
       "'array'"
      ],
      "text/plain": [
       "[1] \"array\""
      ]
     },
     "metadata": {},
     "output_type": "display_data"
    }
   ],
   "source": [
    "x <- array(1:2, c(5, 4, 2))\n",
    "x\n",
    "class(x)"
   ]
  },
  {
   "cell_type": "code",
   "execution_count": 10,
   "id": "future-blond",
   "metadata": {},
   "outputs": [
    {
     "data": {
      "text/html": [
       "<ol>\n",
       "\t<li><ol class=list-inline>\n",
       "\t<li>1</li>\n",
       "\t<li>2</li>\n",
       "\t<li>3</li>\n",
       "\t<li>4</li>\n",
       "\t<li>5</li>\n",
       "</ol>\n",
       "</li>\n",
       "\t<li><ol class=list-inline>\n",
       "\t<li>1</li>\n",
       "\t<li>2</li>\n",
       "\t<li>3</li>\n",
       "\t<li>4</li>\n",
       "\t<li>5</li>\n",
       "\t<li>6</li>\n",
       "\t<li>7</li>\n",
       "\t<li>8</li>\n",
       "\t<li>9</li>\n",
       "\t<li>10</li>\n",
       "\t<li>11</li>\n",
       "\t<li>12</li>\n",
       "\t<li>13</li>\n",
       "\t<li>14</li>\n",
       "\t<li>15</li>\n",
       "\t<li>16</li>\n",
       "\t<li>17</li>\n",
       "\t<li>18</li>\n",
       "\t<li>19</li>\n",
       "\t<li>20</li>\n",
       "\t<li>21</li>\n",
       "\t<li>22</li>\n",
       "\t<li>23</li>\n",
       "\t<li>24</li>\n",
       "\t<li>25</li>\n",
       "\t<li>26</li>\n",
       "\t<li>27</li>\n",
       "\t<li>28</li>\n",
       "\t<li>29</li>\n",
       "\t<li>30</li>\n",
       "\t<li>31</li>\n",
       "\t<li>32</li>\n",
       "\t<li>33</li>\n",
       "\t<li>34</li>\n",
       "\t<li>35</li>\n",
       "\t<li>36</li>\n",
       "\t<li>37</li>\n",
       "\t<li>38</li>\n",
       "\t<li>39</li>\n",
       "\t<li>40</li>\n",
       "\t<li>41</li>\n",
       "\t<li>42</li>\n",
       "\t<li>43</li>\n",
       "\t<li>44</li>\n",
       "\t<li>45</li>\n",
       "\t<li>46</li>\n",
       "\t<li>47</li>\n",
       "\t<li>48</li>\n",
       "\t<li>49</li>\n",
       "\t<li>50</li>\n",
       "</ol>\n",
       "</li>\n",
       "</ol>\n"
      ],
      "text/latex": [
       "\\begin{enumerate}\n",
       "\\item \\begin{enumerate*}\n",
       "\\item 1\n",
       "\\item 2\n",
       "\\item 3\n",
       "\\item 4\n",
       "\\item 5\n",
       "\\end{enumerate*}\n",
       "\n",
       "\\item \\begin{enumerate*}\n",
       "\\item 1\n",
       "\\item 2\n",
       "\\item 3\n",
       "\\item 4\n",
       "\\item 5\n",
       "\\item 6\n",
       "\\item 7\n",
       "\\item 8\n",
       "\\item 9\n",
       "\\item 10\n",
       "\\item 11\n",
       "\\item 12\n",
       "\\item 13\n",
       "\\item 14\n",
       "\\item 15\n",
       "\\item 16\n",
       "\\item 17\n",
       "\\item 18\n",
       "\\item 19\n",
       "\\item 20\n",
       "\\item 21\n",
       "\\item 22\n",
       "\\item 23\n",
       "\\item 24\n",
       "\\item 25\n",
       "\\item 26\n",
       "\\item 27\n",
       "\\item 28\n",
       "\\item 29\n",
       "\\item 30\n",
       "\\item 31\n",
       "\\item 32\n",
       "\\item 33\n",
       "\\item 34\n",
       "\\item 35\n",
       "\\item 36\n",
       "\\item 37\n",
       "\\item 38\n",
       "\\item 39\n",
       "\\item 40\n",
       "\\item 41\n",
       "\\item 42\n",
       "\\item 43\n",
       "\\item 44\n",
       "\\item 45\n",
       "\\item 46\n",
       "\\item 47\n",
       "\\item 48\n",
       "\\item 49\n",
       "\\item 50\n",
       "\\end{enumerate*}\n",
       "\n",
       "\\end{enumerate}\n"
      ],
      "text/markdown": [
       "1. 1. 1\n",
       "2. 2\n",
       "3. 3\n",
       "4. 4\n",
       "5. 5\n",
       "\n",
       "\n",
       "\n",
       "2. 1. 1\n",
       "2. 2\n",
       "3. 3\n",
       "4. 4\n",
       "5. 5\n",
       "6. 6\n",
       "7. 7\n",
       "8. 8\n",
       "9. 9\n",
       "10. 10\n",
       "11. 11\n",
       "12. 12\n",
       "13. 13\n",
       "14. 14\n",
       "15. 15\n",
       "16. 16\n",
       "17. 17\n",
       "18. 18\n",
       "19. 19\n",
       "20. 20\n",
       "21. 21\n",
       "22. 22\n",
       "23. 23\n",
       "24. 24\n",
       "25. 25\n",
       "26. 26\n",
       "27. 27\n",
       "28. 28\n",
       "29. 29\n",
       "30. 30\n",
       "31. 31\n",
       "32. 32\n",
       "33. 33\n",
       "34. 34\n",
       "35. 35\n",
       "36. 36\n",
       "37. 37\n",
       "38. 38\n",
       "39. 39\n",
       "40. 40\n",
       "41. 41\n",
       "42. 42\n",
       "43. 43\n",
       "44. 44\n",
       "45. 45\n",
       "46. 46\n",
       "47. 47\n",
       "48. 48\n",
       "49. 49\n",
       "50. 50\n",
       "\n",
       "\n",
       "\n",
       "\n",
       "\n"
      ],
      "text/plain": [
       "[[1]]\n",
       "[1] 1 2 3 4 5\n",
       "\n",
       "[[2]]\n",
       " [1]  1  2  3  4  5  6  7  8  9 10 11 12 13 14 15 16 17 18 19 20 21 22 23 24 25\n",
       "[26] 26 27 28 29 30 31 32 33 34 35 36 37 38 39 40 41 42 43 44 45 46 47 48 49 50\n"
      ]
     },
     "metadata": {},
     "output_type": "display_data"
    }
   ],
   "source": [
    "x <- list(c(1:5), c(1:50))\n",
    "x"
   ]
  },
  {
   "cell_type": "code",
   "execution_count": 13,
   "id": "portuguese-interstate",
   "metadata": {},
   "outputs": [
    {
     "data": {
      "text/html": [
       "<dl>\n",
       "\t<dt>$flower</dt>\n",
       "\t\t<dd>'rose'</dd>\n",
       "\t<dt>$color</dt>\n",
       "\t\t<dd><ol class=list-inline>\n",
       "\t<li>'red'</li>\n",
       "\t<li>'white'</li>\n",
       "</ol>\n",
       "</dd>\n",
       "</dl>\n"
      ],
      "text/latex": [
       "\\begin{description}\n",
       "\\item[\\$flower] 'rose'\n",
       "\\item[\\$color] \\begin{enumerate*}\n",
       "\\item 'red'\n",
       "\\item 'white'\n",
       "\\end{enumerate*}\n",
       "\n",
       "\\end{description}\n"
      ],
      "text/markdown": [
       "$flower\n",
       ":   'rose'\n",
       "$color\n",
       ":   1. 'red'\n",
       "2. 'white'\n",
       "\n",
       "\n",
       "\n",
       "\n",
       "\n"
      ],
      "text/plain": [
       "$flower\n",
       "[1] \"rose\"\n",
       "\n",
       "$color\n",
       "[1] \"red\"   \"white\"\n"
      ]
     },
     "metadata": {},
     "output_type": "display_data"
    },
    {
     "data": {
      "text/html": [
       "<strong>$flower</strong> = 'rose'"
      ],
      "text/latex": [
       "\\textbf{\\$flower} = 'rose'"
      ],
      "text/markdown": [
       "**$flower** = 'rose'"
      ],
      "text/plain": [
       "$flower\n",
       "[1] \"rose\"\n"
      ]
     },
     "metadata": {},
     "output_type": "display_data"
    }
   ],
   "source": [
    "x <- list(flower = \"rose\", color = c(\"red\", \"white\"))\n",
    "x\n",
    "x[1]"
   ]
  },
  {
   "cell_type": "code",
   "execution_count": 17,
   "id": "promising-manual",
   "metadata": {},
   "outputs": [
    {
     "data": {
      "text/html": [
       "<table>\n",
       "<thead><tr><th scope=col>name</th><th scope=col>age</th><th scope=col>height</th><th scope=col>weight</th></tr></thead>\n",
       "<tbody>\n",
       "\t<tr><td>kim </td><td>32  </td><td>170 </td><td>63  </td></tr>\n",
       "\t<tr><td>ahn </td><td>25  </td><td>175 </td><td>66  </td></tr>\n",
       "\t<tr><td>lee </td><td>18  </td><td>168 </td><td>59  </td></tr>\n",
       "\t<tr><td>park</td><td>39  </td><td>180 </td><td>70  </td></tr>\n",
       "</tbody>\n",
       "</table>\n"
      ],
      "text/latex": [
       "\\begin{tabular}{r|llll}\n",
       " name & age & height & weight\\\\\n",
       "\\hline\n",
       "\t kim  & 32   & 170  & 63  \\\\\n",
       "\t ahn  & 25   & 175  & 66  \\\\\n",
       "\t lee  & 18   & 168  & 59  \\\\\n",
       "\t park & 39   & 180  & 70  \\\\\n",
       "\\end{tabular}\n"
      ],
      "text/markdown": [
       "\n",
       "| name | age | height | weight |\n",
       "|---|---|---|---|\n",
       "| kim  | 32   | 170  | 63   |\n",
       "| ahn  | 25   | 175  | 66   |\n",
       "| lee  | 18   | 168  | 59   |\n",
       "| park | 39   | 180  | 70   |\n",
       "\n"
      ],
      "text/plain": [
       "  name age height weight\n",
       "1 kim  32  170    63    \n",
       "2 ahn  25  175    66    \n",
       "3 lee  18  168    59    \n",
       "4 park 39  180    70    "
      ]
     },
     "metadata": {},
     "output_type": "display_data"
    },
    {
     "data": {
      "text/html": [
       "'data.frame'"
      ],
      "text/latex": [
       "'data.frame'"
      ],
      "text/markdown": [
       "'data.frame'"
      ],
      "text/plain": [
       "[1] \"data.frame\""
      ]
     },
     "metadata": {},
     "output_type": "display_data"
    }
   ],
   "source": [
    "df <- data.frame(name = c(\"kim\", \"ahn\", \"lee\", \"park\"), age = c(32, 25, 18, 39), height = c(170, 175, 168, 180), weight = c(63, 66, 59, 70))\n",
    "df\n",
    "class(df)"
   ]
  },
  {
   "cell_type": "code",
   "execution_count": 35,
   "id": "reflected-discipline",
   "metadata": {},
   "outputs": [
    {
     "data": {
      "text/html": [
       "<table>\n",
       "<thead><tr><th scope=col>name</th><th scope=col>age</th><th scope=col>height</th><th scope=col>weight</th></tr></thead>\n",
       "<tbody>\n",
       "\t<tr><td>kim </td><td>32  </td><td>170 </td><td>63  </td></tr>\n",
       "\t<tr><td>ahn </td><td>25  </td><td>175 </td><td>66  </td></tr>\n",
       "\t<tr><td>lee </td><td>18  </td><td>168 </td><td>59  </td></tr>\n",
       "\t<tr><td>park</td><td>39  </td><td>180 </td><td>70  </td></tr>\n",
       "</tbody>\n",
       "</table>\n"
      ],
      "text/latex": [
       "\\begin{tabular}{r|llll}\n",
       " name & age & height & weight\\\\\n",
       "\\hline\n",
       "\t kim  & 32   & 170  & 63  \\\\\n",
       "\t ahn  & 25   & 175  & 66  \\\\\n",
       "\t lee  & 18   & 168  & 59  \\\\\n",
       "\t park & 39   & 180  & 70  \\\\\n",
       "\\end{tabular}\n"
      ],
      "text/markdown": [
       "\n",
       "| name | age | height | weight |\n",
       "|---|---|---|---|\n",
       "| kim  | 32   | 170  | 63   |\n",
       "| ahn  | 25   | 175  | 66   |\n",
       "| lee  | 18   | 168  | 59   |\n",
       "| park | 39   | 180  | 70   |\n",
       "\n"
      ],
      "text/plain": [
       "  name age height weight\n",
       "1 kim  32  170    63    \n",
       "2 ahn  25  175    66    \n",
       "3 lee  18  168    59    \n",
       "4 park 39  180    70    "
      ]
     },
     "metadata": {},
     "output_type": "display_data"
    }
   ],
   "source": [
    "name <- c(\"kim\", \"ahn\", \"lee\", \"park\")\n",
    "age <- c(32, 25, 18, 39)\n",
    "weight <- c(63, 66, 59, 70)\n",
    "height <- c(170, 175, 168, 180)\n",
    "df <- data.frame(name, age, height, weight)\n",
    "df"
   ]
  },
  {
   "cell_type": "code",
   "execution_count": 25,
   "id": "animal-pregnancy",
   "metadata": {},
   "outputs": [
    {
     "data": {
      "text/html": [
       "<table>\n",
       "<thead><tr><th scope=col>name</th><th scope=col>age</th><th scope=col>height</th><th scope=col>weight</th></tr></thead>\n",
       "<tbody>\n",
       "\t<tr><td>kim</td><td>32 </td><td>170</td><td>63 </td></tr>\n",
       "</tbody>\n",
       "</table>\n"
      ],
      "text/latex": [
       "\\begin{tabular}{r|llll}\n",
       " name & age & height & weight\\\\\n",
       "\\hline\n",
       "\t kim & 32  & 170 & 63 \\\\\n",
       "\\end{tabular}\n"
      ],
      "text/markdown": [
       "\n",
       "| name | age | height | weight |\n",
       "|---|---|---|---|\n",
       "| kim | 32  | 170 | 63  |\n",
       "\n"
      ],
      "text/plain": [
       "  name age height weight\n",
       "1 kim  32  170    63    "
      ]
     },
     "metadata": {},
     "output_type": "display_data"
    },
    {
     "data": {
      "text/html": [
       "<table>\n",
       "<thead><tr><th></th><th scope=col>name</th><th scope=col>age</th><th scope=col>height</th><th scope=col>weight</th></tr></thead>\n",
       "<tbody>\n",
       "\t<tr><th scope=row>3</th><td>lee</td><td>18 </td><td>168</td><td>59 </td></tr>\n",
       "</tbody>\n",
       "</table>\n"
      ],
      "text/latex": [
       "\\begin{tabular}{r|llll}\n",
       "  & name & age & height & weight\\\\\n",
       "\\hline\n",
       "\t3 & lee & 18  & 168 & 59 \\\\\n",
       "\\end{tabular}\n"
      ],
      "text/markdown": [
       "\n",
       "| <!--/--> | name | age | height | weight |\n",
       "|---|---|---|---|---|\n",
       "| 3 | lee | 18  | 168 | 59  |\n",
       "\n"
      ],
      "text/plain": [
       "  name age height weight\n",
       "3 lee  18  168    59    "
      ]
     },
     "metadata": {},
     "output_type": "display_data"
    },
    {
     "data": {
      "text/html": [
       "<table>\n",
       "<thead><tr><th></th><th scope=col>name</th><th scope=col>age</th><th scope=col>height</th><th scope=col>weight</th></tr></thead>\n",
       "<tbody>\n",
       "\t<tr><th scope=row>1</th><td>kim</td><td>32 </td><td>170</td><td>63 </td></tr>\n",
       "\t<tr><th scope=row>3</th><td>lee</td><td>18 </td><td>168</td><td>59 </td></tr>\n",
       "</tbody>\n",
       "</table>\n"
      ],
      "text/latex": [
       "\\begin{tabular}{r|llll}\n",
       "  & name & age & height & weight\\\\\n",
       "\\hline\n",
       "\t1 & kim & 32  & 170 & 63 \\\\\n",
       "\t3 & lee & 18  & 168 & 59 \\\\\n",
       "\\end{tabular}\n"
      ],
      "text/markdown": [
       "\n",
       "| <!--/--> | name | age | height | weight |\n",
       "|---|---|---|---|---|\n",
       "| 1 | kim | 32  | 170 | 63  |\n",
       "| 3 | lee | 18  | 168 | 59  |\n",
       "\n"
      ],
      "text/plain": [
       "  name age height weight\n",
       "1 kim  32  170    63    \n",
       "3 lee  18  168    59    "
      ]
     },
     "metadata": {},
     "output_type": "display_data"
    }
   ],
   "source": [
    "df[1, ]\n",
    "df[3, ]\n",
    "df[c(1, 3), ]"
   ]
  },
  {
   "cell_type": "code",
   "execution_count": 28,
   "id": "superb-creature",
   "metadata": {},
   "outputs": [
    {
     "data": {
      "text/html": [
       "<ol class=list-inline>\n",
       "\t<li>32</li>\n",
       "\t<li>25</li>\n",
       "\t<li>18</li>\n",
       "\t<li>39</li>\n",
       "</ol>\n"
      ],
      "text/latex": [
       "\\begin{enumerate*}\n",
       "\\item 32\n",
       "\\item 25\n",
       "\\item 18\n",
       "\\item 39\n",
       "\\end{enumerate*}\n"
      ],
      "text/markdown": [
       "1. 32\n",
       "2. 25\n",
       "3. 18\n",
       "4. 39\n",
       "\n",
       "\n"
      ],
      "text/plain": [
       "[1] 32 25 18 39"
      ]
     },
     "metadata": {},
     "output_type": "display_data"
    },
    {
     "data": {
      "text/html": [
       "<table>\n",
       "<thead><tr><th scope=col>age</th></tr></thead>\n",
       "<tbody>\n",
       "\t<tr><td>32</td></tr>\n",
       "\t<tr><td>25</td></tr>\n",
       "\t<tr><td>18</td></tr>\n",
       "\t<tr><td>39</td></tr>\n",
       "</tbody>\n",
       "</table>\n"
      ],
      "text/latex": [
       "\\begin{tabular}{r|l}\n",
       " age\\\\\n",
       "\\hline\n",
       "\t 32\\\\\n",
       "\t 25\\\\\n",
       "\t 18\\\\\n",
       "\t 39\\\\\n",
       "\\end{tabular}\n"
      ],
      "text/markdown": [
       "\n",
       "| age |\n",
       "|---|\n",
       "| 32 |\n",
       "| 25 |\n",
       "| 18 |\n",
       "| 39 |\n",
       "\n"
      ],
      "text/plain": [
       "  age\n",
       "1 32 \n",
       "2 25 \n",
       "3 18 \n",
       "4 39 "
      ]
     },
     "metadata": {},
     "output_type": "display_data"
    }
   ],
   "source": [
    "df[ , 2]\n",
    "df[ , 2, drop = FALSE]   # 원래 형태대로 하고싶으면 저거 써라"
   ]
  },
  {
   "cell_type": "code",
   "execution_count": 30,
   "id": "convinced-dayton",
   "metadata": {},
   "outputs": [
    {
     "data": {
      "text/html": [
       "<table>\n",
       "<thead><tr><th></th><th scope=col>name</th><th scope=col>age</th><th scope=col>height</th><th scope=col>weight</th></tr></thead>\n",
       "<tbody>\n",
       "\t<tr><th scope=row>one</th><td>kim </td><td>32  </td><td>170 </td><td>63  </td></tr>\n",
       "\t<tr><th scope=row>two</th><td>ahn </td><td>25  </td><td>175 </td><td>66  </td></tr>\n",
       "\t<tr><th scope=row>three</th><td>lee </td><td>18  </td><td>168 </td><td>59  </td></tr>\n",
       "\t<tr><th scope=row>four</th><td>park</td><td>39  </td><td>180 </td><td>70  </td></tr>\n",
       "</tbody>\n",
       "</table>\n"
      ],
      "text/latex": [
       "\\begin{tabular}{r|llll}\n",
       "  & name & age & height & weight\\\\\n",
       "\\hline\n",
       "\tone & kim  & 32   & 170  & 63  \\\\\n",
       "\ttwo & ahn  & 25   & 175  & 66  \\\\\n",
       "\tthree & lee  & 18   & 168  & 59  \\\\\n",
       "\tfour & park & 39   & 180  & 70  \\\\\n",
       "\\end{tabular}\n"
      ],
      "text/markdown": [
       "\n",
       "| <!--/--> | name | age | height | weight |\n",
       "|---|---|---|---|---|\n",
       "| one | kim  | 32   | 170  | 63   |\n",
       "| two | ahn  | 25   | 175  | 66   |\n",
       "| three | lee  | 18   | 168  | 59   |\n",
       "| four | park | 39   | 180  | 70   |\n",
       "\n"
      ],
      "text/plain": [
       "      name age height weight\n",
       "one   kim  32  170    63    \n",
       "two   ahn  25  175    66    \n",
       "three lee  18  168    59    \n",
       "four  park 39  180    70    "
      ]
     },
     "metadata": {},
     "output_type": "display_data"
    }
   ],
   "source": [
    "rownames(df) <- c(\"one\", \"two\", \"three\", \"four\")   # rownames: 행 이름을 붙이는 함수\n",
    "df"
   ]
  },
  {
   "cell_type": "code",
   "execution_count": 33,
   "id": "written-network",
   "metadata": {},
   "outputs": [
    {
     "data": {
      "text/html": [
       "<table>\n",
       "<thead><tr><th></th><th scope=col>name</th><th scope=col>age</th><th scope=col>height</th><th scope=col>weight</th></tr></thead>\n",
       "<tbody>\n",
       "\t<tr><th scope=row>one</th><td>kim</td><td>32 </td><td>170</td><td>63 </td></tr>\n",
       "\t<tr><th scope=row>three</th><td>lee</td><td>18 </td><td>168</td><td>59 </td></tr>\n",
       "</tbody>\n",
       "</table>\n"
      ],
      "text/latex": [
       "\\begin{tabular}{r|llll}\n",
       "  & name & age & height & weight\\\\\n",
       "\\hline\n",
       "\tone & kim & 32  & 170 & 63 \\\\\n",
       "\tthree & lee & 18  & 168 & 59 \\\\\n",
       "\\end{tabular}\n"
      ],
      "text/markdown": [
       "\n",
       "| <!--/--> | name | age | height | weight |\n",
       "|---|---|---|---|---|\n",
       "| one | kim | 32  | 170 | 63  |\n",
       "| three | lee | 18  | 168 | 59  |\n",
       "\n"
      ],
      "text/plain": [
       "      name age height weight\n",
       "one   kim  32  170    63    \n",
       "three lee  18  168    59    "
      ]
     },
     "metadata": {},
     "output_type": "display_data"
    },
    {
     "data": {
      "text/html": [
       "<table>\n",
       "<thead><tr><th></th><th scope=col>age</th></tr></thead>\n",
       "<tbody>\n",
       "\t<tr><th scope=row>one</th><td>32</td></tr>\n",
       "\t<tr><th scope=row>two</th><td>25</td></tr>\n",
       "\t<tr><th scope=row>three</th><td>18</td></tr>\n",
       "\t<tr><th scope=row>four</th><td>39</td></tr>\n",
       "</tbody>\n",
       "</table>\n"
      ],
      "text/latex": [
       "\\begin{tabular}{r|l}\n",
       "  & age\\\\\n",
       "\\hline\n",
       "\tone & 32\\\\\n",
       "\ttwo & 25\\\\\n",
       "\tthree & 18\\\\\n",
       "\tfour & 39\\\\\n",
       "\\end{tabular}\n"
      ],
      "text/markdown": [
       "\n",
       "| <!--/--> | age |\n",
       "|---|---|\n",
       "| one | 32 |\n",
       "| two | 25 |\n",
       "| three | 18 |\n",
       "| four | 39 |\n",
       "\n"
      ],
      "text/plain": [
       "      age\n",
       "one   32 \n",
       "two   25 \n",
       "three 18 \n",
       "four  39 "
      ]
     },
     "metadata": {},
     "output_type": "display_data"
    }
   ],
   "source": [
    "df[c(\"one\", \"three\"),]\n",
    "df[ , \"age\", drop = FALSE]"
   ]
  },
  {
   "cell_type": "code",
   "execution_count": 34,
   "id": "changing-treatment",
   "metadata": {},
   "outputs": [
    {
     "data": {
      "text/html": [
       "<ol class=list-inline>\n",
       "\t<li>170</li>\n",
       "\t<li>175</li>\n",
       "\t<li>168</li>\n",
       "\t<li>180</li>\n",
       "</ol>\n"
      ],
      "text/latex": [
       "\\begin{enumerate*}\n",
       "\\item 170\n",
       "\\item 175\n",
       "\\item 168\n",
       "\\item 180\n",
       "\\end{enumerate*}\n"
      ],
      "text/markdown": [
       "1. 170\n",
       "2. 175\n",
       "3. 168\n",
       "4. 180\n",
       "\n",
       "\n"
      ],
      "text/plain": [
       "[1] 170 175 168 180"
      ]
     },
     "metadata": {},
     "output_type": "display_data"
    }
   ],
   "source": [
    "df$height"
   ]
  },
  {
   "cell_type": "code",
   "execution_count": 67,
   "id": "filled-journal",
   "metadata": {},
   "outputs": [
    {
     "data": {
      "text/html": [
       "<table>\n",
       "<thead><tr><th></th><th scope=col>이름</th><th scope=col>나이</th><th scope=col>성별</th><th scope=col>전공</th></tr></thead>\n",
       "<tbody>\n",
       "\t<tr><th scope=row>0</th><td>민준</td><td>22  </td><td>남  </td><td>수학</td></tr>\n",
       "\t<tr><th scope=row>1</th><td>유리</td><td>20  </td><td>여  </td><td>영문</td></tr>\n",
       "\t<tr><th scope=row>2</th><td>재희</td><td>21  </td><td>남  </td><td>경영</td></tr>\n",
       "</tbody>\n",
       "</table>\n"
      ],
      "text/latex": [
       "\\begin{tabular}{r|llll}\n",
       "  & 이름 & 나이 & 성별 & 전공\\\\\n",
       "\\hline\n",
       "\t0 & 민준 & 22   & 남   & 수학\\\\\n",
       "\t1 & 유리 & 20   & 여   & 영문\\\\\n",
       "\t2 & 재희 & 21   & 남   & 경영\\\\\n",
       "\\end{tabular}\n"
      ],
      "text/markdown": [
       "\n",
       "| <!--/--> | 이름 | 나이 | 성별 | 전공 |\n",
       "|---|---|---|---|---|\n",
       "| 0 | 민준 | 22   | 남   | 수학 |\n",
       "| 1 | 유리 | 20   | 여   | 영문 |\n",
       "| 2 | 재희 | 21   | 남   | 경영 |\n",
       "\n"
      ],
      "text/plain": [
       "  이름 나이 성별 전공\n",
       "0 민준 22   남   수학\n",
       "1 유리 20   여   영문\n",
       "2 재희 21   남   경영"
      ]
     },
     "metadata": {},
     "output_type": "display_data"
    },
    {
     "data": {
      "text/html": [
       "<ol class=list-inline>\n",
       "\t<li>민준</li>\n",
       "\t<li>유리</li>\n",
       "\t<li>재희</li>\n",
       "</ol>\n",
       "\n",
       "<details>\n",
       "\t<summary style=display:list-item;cursor:pointer>\n",
       "\t\t<strong>Levels</strong>:\n",
       "\t</summary>\n",
       "\t<ol class=list-inline>\n",
       "\t\t<li>'민준'</li>\n",
       "\t\t<li>'유리'</li>\n",
       "\t\t<li>'재희'</li>\n",
       "\t</ol>\n",
       "</details>"
      ],
      "text/latex": [
       "\\begin{enumerate*}\n",
       "\\item 민준\n",
       "\\item 유리\n",
       "\\item 재희\n",
       "\\end{enumerate*}\n",
       "\n",
       "\\emph{Levels}: \\begin{enumerate*}\n",
       "\\item '민준'\n",
       "\\item '유리'\n",
       "\\item '재희'\n",
       "\\end{enumerate*}\n"
      ],
      "text/markdown": [
       "1. 민준\n",
       "2. 유리\n",
       "3. 재희\n",
       "\n",
       "\n",
       "\n",
       "**Levels**: 1. '민준'\n",
       "2. '유리'\n",
       "3. '재희'\n",
       "\n",
       "\n"
      ],
      "text/plain": [
       "[1] 민준 유리 재희\n",
       "Levels: 민준 유리 재희"
      ]
     },
     "metadata": {},
     "output_type": "display_data"
    },
    {
     "data": {
      "text/html": [
       "<ol class=list-inline>\n",
       "\t<li>22</li>\n",
       "\t<li>20</li>\n",
       "\t<li>21</li>\n",
       "</ol>\n"
      ],
      "text/latex": [
       "\\begin{enumerate*}\n",
       "\\item 22\n",
       "\\item 20\n",
       "\\item 21\n",
       "\\end{enumerate*}\n"
      ],
      "text/markdown": [
       "1. 22\n",
       "2. 20\n",
       "3. 21\n",
       "\n",
       "\n"
      ],
      "text/plain": [
       "[1] 22 20 21"
      ]
     },
     "metadata": {},
     "output_type": "display_data"
    },
    {
     "data": {
      "text/html": [
       "<ol class=list-inline>\n",
       "\t<li>남</li>\n",
       "\t<li>여</li>\n",
       "\t<li>남</li>\n",
       "</ol>\n",
       "\n",
       "<details>\n",
       "\t<summary style=display:list-item;cursor:pointer>\n",
       "\t\t<strong>Levels</strong>:\n",
       "\t</summary>\n",
       "\t<ol class=list-inline>\n",
       "\t\t<li>'남'</li>\n",
       "\t\t<li>'여'</li>\n",
       "\t</ol>\n",
       "</details>"
      ],
      "text/latex": [
       "\\begin{enumerate*}\n",
       "\\item 남\n",
       "\\item 여\n",
       "\\item 남\n",
       "\\end{enumerate*}\n",
       "\n",
       "\\emph{Levels}: \\begin{enumerate*}\n",
       "\\item '남'\n",
       "\\item '여'\n",
       "\\end{enumerate*}\n"
      ],
      "text/markdown": [
       "1. 남\n",
       "2. 여\n",
       "3. 남\n",
       "\n",
       "\n",
       "\n",
       "**Levels**: 1. '남'\n",
       "2. '여'\n",
       "\n",
       "\n"
      ],
      "text/plain": [
       "[1] 남 여 남\n",
       "Levels: 남 여"
      ]
     },
     "metadata": {},
     "output_type": "display_data"
    },
    {
     "data": {
      "text/html": [
       "<ol class=list-inline>\n",
       "\t<li>수학</li>\n",
       "\t<li>영문</li>\n",
       "\t<li>경영</li>\n",
       "</ol>\n",
       "\n",
       "<details>\n",
       "\t<summary style=display:list-item;cursor:pointer>\n",
       "\t\t<strong>Levels</strong>:\n",
       "\t</summary>\n",
       "\t<ol class=list-inline>\n",
       "\t\t<li>'경영'</li>\n",
       "\t\t<li>'수학'</li>\n",
       "\t\t<li>'영문'</li>\n",
       "\t</ol>\n",
       "</details>"
      ],
      "text/latex": [
       "\\begin{enumerate*}\n",
       "\\item 수학\n",
       "\\item 영문\n",
       "\\item 경영\n",
       "\\end{enumerate*}\n",
       "\n",
       "\\emph{Levels}: \\begin{enumerate*}\n",
       "\\item '경영'\n",
       "\\item '수학'\n",
       "\\item '영문'\n",
       "\\end{enumerate*}\n"
      ],
      "text/markdown": [
       "1. 수학\n",
       "2. 영문\n",
       "3. 경영\n",
       "\n",
       "\n",
       "\n",
       "**Levels**: 1. '경영'\n",
       "2. '수학'\n",
       "3. '영문'\n",
       "\n",
       "\n"
      ],
      "text/plain": [
       "[1] 수학 영문 경영\n",
       "Levels: 경영 수학 영문"
      ]
     },
     "metadata": {},
     "output_type": "display_data"
    },
    {
     "data": {
      "text/html": [
       "<table>\n",
       "<thead><tr><th></th><th scope=col>이름</th><th scope=col>나이</th><th scope=col>성별</th><th scope=col>전공</th></tr></thead>\n",
       "<tbody>\n",
       "\t<tr><th scope=row>0</th><td>민준</td><td>22  </td><td>남  </td><td>수학</td></tr>\n",
       "</tbody>\n",
       "</table>\n"
      ],
      "text/latex": [
       "\\begin{tabular}{r|llll}\n",
       "  & 이름 & 나이 & 성별 & 전공\\\\\n",
       "\\hline\n",
       "\t0 & 민준 & 22   & 남   & 수학\\\\\n",
       "\\end{tabular}\n"
      ],
      "text/markdown": [
       "\n",
       "| <!--/--> | 이름 | 나이 | 성별 | 전공 |\n",
       "|---|---|---|---|---|\n",
       "| 0 | 민준 | 22   | 남   | 수학 |\n",
       "\n"
      ],
      "text/plain": [
       "  이름 나이 성별 전공\n",
       "0 민준 22   남   수학"
      ]
     },
     "metadata": {},
     "output_type": "display_data"
    },
    {
     "data": {
      "text/html": [
       "<table>\n",
       "<thead><tr><th scope=col>이름</th><th scope=col>나이</th><th scope=col>성별</th><th scope=col>전공</th></tr></thead>\n",
       "<tbody>\n",
       "\t<tr><td>유리</td><td>20  </td><td>여  </td><td>영문</td></tr>\n",
       "</tbody>\n",
       "</table>\n"
      ],
      "text/latex": [
       "\\begin{tabular}{r|llll}\n",
       " 이름 & 나이 & 성별 & 전공\\\\\n",
       "\\hline\n",
       "\t 유리 & 20   & 여   & 영문\\\\\n",
       "\\end{tabular}\n"
      ],
      "text/markdown": [
       "\n",
       "| 이름 | 나이 | 성별 | 전공 |\n",
       "|---|---|---|---|\n",
       "| 유리 | 20   | 여   | 영문 |\n",
       "\n"
      ],
      "text/plain": [
       "  이름 나이 성별 전공\n",
       "1 유리 20   여   영문"
      ]
     },
     "metadata": {},
     "output_type": "display_data"
    },
    {
     "data": {
      "text/html": [
       "<table>\n",
       "<thead><tr><th></th><th scope=col>이름</th><th scope=col>나이</th><th scope=col>성별</th><th scope=col>전공</th></tr></thead>\n",
       "<tbody>\n",
       "\t<tr><th scope=row>2</th><td>재희</td><td>21  </td><td>남  </td><td>경영</td></tr>\n",
       "</tbody>\n",
       "</table>\n"
      ],
      "text/latex": [
       "\\begin{tabular}{r|llll}\n",
       "  & 이름 & 나이 & 성별 & 전공\\\\\n",
       "\\hline\n",
       "\t2 & 재희 & 21   & 남   & 경영\\\\\n",
       "\\end{tabular}\n"
      ],
      "text/markdown": [
       "\n",
       "| <!--/--> | 이름 | 나이 | 성별 | 전공 |\n",
       "|---|---|---|---|---|\n",
       "| 2 | 재희 | 21   | 남   | 경영 |\n",
       "\n"
      ],
      "text/plain": [
       "  이름 나이 성별 전공\n",
       "2 재희 21   남   경영"
      ]
     },
     "metadata": {},
     "output_type": "display_data"
    },
    {
     "data": {
      "text/html": [
       "<table>\n",
       "<thead><tr><th scope=col>이름</th><th scope=col>나이</th><th scope=col>성별</th><th scope=col>전공</th></tr></thead>\n",
       "<tbody>\n",
       "\t<tr><td>유리</td><td>20  </td><td>여  </td><td>영문</td></tr>\n",
       "\t<tr><td>재희</td><td>21  </td><td>남  </td><td>경영</td></tr>\n",
       "</tbody>\n",
       "</table>\n"
      ],
      "text/latex": [
       "\\begin{tabular}{r|llll}\n",
       " 이름 & 나이 & 성별 & 전공\\\\\n",
       "\\hline\n",
       "\t 유리 & 20   & 여   & 영문\\\\\n",
       "\t 재희 & 21   & 남   & 경영\\\\\n",
       "\\end{tabular}\n"
      ],
      "text/markdown": [
       "\n",
       "| 이름 | 나이 | 성별 | 전공 |\n",
       "|---|---|---|---|\n",
       "| 유리 | 20   | 여   | 영문 |\n",
       "| 재희 | 21   | 남   | 경영 |\n",
       "\n"
      ],
      "text/plain": [
       "  이름 나이 성별 전공\n",
       "1 유리 20   여   영문\n",
       "2 재희 21   남   경영"
      ]
     },
     "metadata": {},
     "output_type": "display_data"
    },
    {
     "data": {
      "text/html": [
       "<ol class=list-inline>\n",
       "\t<li>22</li>\n",
       "\t<li>20</li>\n",
       "\t<li>21</li>\n",
       "</ol>\n"
      ],
      "text/latex": [
       "\\begin{enumerate*}\n",
       "\\item 22\n",
       "\\item 20\n",
       "\\item 21\n",
       "\\end{enumerate*}\n"
      ],
      "text/markdown": [
       "1. 22\n",
       "2. 20\n",
       "3. 21\n",
       "\n",
       "\n"
      ],
      "text/plain": [
       "[1] 22 20 21"
      ]
     },
     "metadata": {},
     "output_type": "display_data"
    },
    {
     "data": {
      "text/html": [
       "<ol class=list-inline>\n",
       "\t<li>남</li>\n",
       "\t<li>여</li>\n",
       "\t<li>남</li>\n",
       "</ol>\n",
       "\n",
       "<details>\n",
       "\t<summary style=display:list-item;cursor:pointer>\n",
       "\t\t<strong>Levels</strong>:\n",
       "\t</summary>\n",
       "\t<ol class=list-inline>\n",
       "\t\t<li>'남'</li>\n",
       "\t\t<li>'여'</li>\n",
       "\t</ol>\n",
       "</details>"
      ],
      "text/latex": [
       "\\begin{enumerate*}\n",
       "\\item 남\n",
       "\\item 여\n",
       "\\item 남\n",
       "\\end{enumerate*}\n",
       "\n",
       "\\emph{Levels}: \\begin{enumerate*}\n",
       "\\item '남'\n",
       "\\item '여'\n",
       "\\end{enumerate*}\n"
      ],
      "text/markdown": [
       "1. 남\n",
       "2. 여\n",
       "3. 남\n",
       "\n",
       "\n",
       "\n",
       "**Levels**: 1. '남'\n",
       "2. '여'\n",
       "\n",
       "\n"
      ],
      "text/plain": [
       "[1] 남 여 남\n",
       "Levels: 남 여"
      ]
     },
     "metadata": {},
     "output_type": "display_data"
    },
    {
     "data": {
      "text/html": [
       "21"
      ],
      "text/latex": [
       "21"
      ],
      "text/markdown": [
       "21"
      ],
      "text/plain": [
       "[1] 21"
      ]
     },
     "metadata": {},
     "output_type": "display_data"
    }
   ],
   "source": [
    "이름 <- c(\"민준\", \"유리\", \"재희\")\n",
    "나이 <- c(22, 20, 21)\n",
    "성별 <- c(\"남\", \"여\", \"남\")\n",
    "전공 <- c(\"수학\", \"영문\", \"경영\")\n",
    "df <- data.frame(이름, 나이, 성별, 전공)\n",
    "rownames(df) <- c('0', '1', '2')\n",
    "##########################################\n",
    "# 1. 데이터 프레임\n",
    "df\n",
    "##########################################\n",
    "# 2. 열별로 전부 각각 데이터 추출하기\n",
    "df$이름\n",
    "df$나이\n",
    "df$성별\n",
    "df$전공\n",
    "##########################################\n",
    "# 3. 행별로 전부 각각 데이터 추출하기\n",
    "df[1, ]\n",
    "df[2, ]\n",
    "df[3, ]\n",
    "##########################################\n",
    "# 4. 유리와 재희의 정보만 추출하기\n",
    "df[2:3, ]\n",
    "##########################################\n",
    "# 5. 나이와 성별의 정보만 추출하기\n",
    "df$나이\n",
    "df$성별\n",
    "##########################################\n",
    "# 6. 나이의 평균\n",
    "(df[1, 2] + df[2, 2] + df[3, 2])/3\n",
    "##########################################\n",
    "# 7. 성별 인원수\n"
   ]
  },
  {
   "cell_type": "code",
   "execution_count": null,
   "id": "universal-ridge",
   "metadata": {},
   "outputs": [],
   "source": []
  }
 ],
 "metadata": {
  "kernelspec": {
   "display_name": "R",
   "language": "R",
   "name": "ir"
  },
  "language_info": {
   "codemirror_mode": "r",
   "file_extension": ".r",
   "mimetype": "text/x-r-source",
   "name": "R",
   "pygments_lexer": "r",
   "version": "3.6.1"
  }
 },
 "nbformat": 4,
 "nbformat_minor": 5
}
