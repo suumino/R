{
 "cells": [
  {
   "cell_type": "code",
   "execution_count": 2,
   "id": "floral-valley",
   "metadata": {},
   "outputs": [
    {
     "data": {
      "text/html": [
       "<ol class=list-inline>\n",
       "\t<li>0.25</li>\n",
       "\t<li>0.5</li>\n",
       "\t<li>0.75</li>\n",
       "\t<li>1</li>\n",
       "\t<li>1.25</li>\n",
       "</ol>\n"
      ],
      "text/latex": [
       "\\begin{enumerate*}\n",
       "\\item 0.25\n",
       "\\item 0.5\n",
       "\\item 0.75\n",
       "\\item 1\n",
       "\\item 1.25\n",
       "\\end{enumerate*}\n"
      ],
      "text/markdown": [
       "1. 0.25\n",
       "2. 0.5\n",
       "3. 0.75\n",
       "4. 1\n",
       "5. 1.25\n",
       "\n",
       "\n"
      ],
      "text/plain": [
       "[1] 0.25 0.50 0.75 1.00 1.25"
      ]
     },
     "metadata": {},
     "output_type": "display_data"
    }
   ],
   "source": [
    "x <- c(1, 2, 3, 4, 5)/4\n",
    "x"
   ]
  },
  {
   "cell_type": "code",
   "execution_count": 7,
   "id": "mobile-buying",
   "metadata": {},
   "outputs": [
    {
     "data": {
      "text/html": [
       "<ol class=list-inline>\n",
       "\t<li>0</li>\n",
       "\t<li>0</li>\n",
       "\t<li>1</li>\n",
       "\t<li>1</li>\n",
       "\t<li>1</li>\n",
       "</ol>\n"
      ],
      "text/latex": [
       "\\begin{enumerate*}\n",
       "\\item 0\n",
       "\\item 0\n",
       "\\item 1\n",
       "\\item 1\n",
       "\\item 1\n",
       "\\end{enumerate*}\n"
      ],
      "text/markdown": [
       "1. 0\n",
       "2. 0\n",
       "3. 1\n",
       "4. 1\n",
       "5. 1\n",
       "\n",
       "\n"
      ],
      "text/plain": [
       "[1] 0 0 1 1 1"
      ]
     },
     "metadata": {},
     "output_type": "display_data"
    },
    {
     "data": {
      "text/html": [
       "<ol class=list-inline>\n",
       "\t<li>0</li>\n",
       "\t<li>0</li>\n",
       "\t<li>0</li>\n",
       "\t<li>1</li>\n",
       "\t<li>1</li>\n",
       "</ol>\n"
      ],
      "text/latex": [
       "\\begin{enumerate*}\n",
       "\\item 0\n",
       "\\item 0\n",
       "\\item 0\n",
       "\\item 1\n",
       "\\item 1\n",
       "\\end{enumerate*}\n"
      ],
      "text/markdown": [
       "1. 0\n",
       "2. 0\n",
       "3. 0\n",
       "4. 1\n",
       "5. 1\n",
       "\n",
       "\n"
      ],
      "text/plain": [
       "[1] 0 0 0 1 1"
      ]
     },
     "metadata": {},
     "output_type": "display_data"
    },
    {
     "data": {
      "text/html": [
       "<ol class=list-inline>\n",
       "\t<li>1</li>\n",
       "\t<li>1</li>\n",
       "\t<li>1</li>\n",
       "\t<li>1</li>\n",
       "\t<li>2</li>\n",
       "</ol>\n"
      ],
      "text/latex": [
       "\\begin{enumerate*}\n",
       "\\item 1\n",
       "\\item 1\n",
       "\\item 1\n",
       "\\item 1\n",
       "\\item 2\n",
       "\\end{enumerate*}\n"
      ],
      "text/markdown": [
       "1. 1\n",
       "2. 1\n",
       "3. 1\n",
       "4. 1\n",
       "5. 2\n",
       "\n",
       "\n"
      ],
      "text/plain": [
       "[1] 1 1 1 1 2"
      ]
     },
     "metadata": {},
     "output_type": "display_data"
    },
    {
     "data": {
      "text/html": [
       "<ol class=list-inline>\n",
       "\t<li>0</li>\n",
       "\t<li>0</li>\n",
       "\t<li>0</li>\n",
       "\t<li>1</li>\n",
       "\t<li>1</li>\n",
       "</ol>\n"
      ],
      "text/latex": [
       "\\begin{enumerate*}\n",
       "\\item 0\n",
       "\\item 0\n",
       "\\item 0\n",
       "\\item 1\n",
       "\\item 1\n",
       "\\end{enumerate*}\n"
      ],
      "text/markdown": [
       "1. 0\n",
       "2. 0\n",
       "3. 0\n",
       "4. 1\n",
       "5. 1\n",
       "\n",
       "\n"
      ],
      "text/plain": [
       "[1] 0 0 0 1 1"
      ]
     },
     "metadata": {},
     "output_type": "display_data"
    },
    {
     "data": {
      "text/html": [
       "10"
      ],
      "text/latex": [
       "10"
      ],
      "text/markdown": [
       "10"
      ],
      "text/plain": [
       "[1] 10"
      ]
     },
     "metadata": {},
     "output_type": "display_data"
    },
    {
     "data": {
      "text/html": [
       "3.32192809488736"
      ],
      "text/latex": [
       "3.32192809488736"
      ],
      "text/markdown": [
       "3.32192809488736"
      ],
      "text/plain": [
       "[1] 3.321928"
      ]
     },
     "metadata": {},
     "output_type": "display_data"
    },
    {
     "data": {
      "text/html": [
       "3.16227766016838"
      ],
      "text/latex": [
       "3.16227766016838"
      ],
      "text/markdown": [
       "3.16227766016838"
      ],
      "text/plain": [
       "[1] 3.162278"
      ]
     },
     "metadata": {},
     "output_type": "display_data"
    },
    {
     "data": {
      "text/html": [
       "22026.4657948067"
      ],
      "text/latex": [
       "22026.4657948067"
      ],
      "text/markdown": [
       "22026.4657948067"
      ],
      "text/plain": [
       "[1] 22026.47"
      ]
     },
     "metadata": {},
     "output_type": "display_data"
    },
    {
     "data": {
      "text/html": [
       "3.75"
      ],
      "text/latex": [
       "3.75"
      ],
      "text/markdown": [
       "3.75"
      ],
      "text/plain": [
       "[1] 3.75"
      ]
     },
     "metadata": {},
     "output_type": "display_data"
    },
    {
     "data": {
      "text/html": [
       "0.75"
      ],
      "text/latex": [
       "0.75"
      ],
      "text/markdown": [
       "0.75"
      ],
      "text/plain": [
       "[1] 0.75"
      ]
     },
     "metadata": {},
     "output_type": "display_data"
    },
    {
     "data": {
      "text/html": [
       "0.75"
      ],
      "text/latex": [
       "0.75"
      ],
      "text/markdown": [
       "0.75"
      ],
      "text/plain": [
       "[1] 0.75"
      ]
     },
     "metadata": {},
     "output_type": "display_data"
    },
    {
     "data": {
      "text/html": [
       "1.25"
      ],
      "text/latex": [
       "1.25"
      ],
      "text/markdown": [
       "1.25"
      ],
      "text/plain": [
       "[1] 1.25"
      ]
     },
     "metadata": {},
     "output_type": "display_data"
    },
    {
     "data": {
      "text/html": [
       "0.25"
      ],
      "text/latex": [
       "0.25"
      ],
      "text/markdown": [
       "0.25"
      ],
      "text/plain": [
       "[1] 0.25"
      ]
     },
     "metadata": {},
     "output_type": "display_data"
    },
    {
     "data": {
      "text/html": [
       "<ol class=list-inline>\n",
       "\t<li>0.25</li>\n",
       "\t<li>1.25</li>\n",
       "</ol>\n"
      ],
      "text/latex": [
       "\\begin{enumerate*}\n",
       "\\item 0.25\n",
       "\\item 1.25\n",
       "\\end{enumerate*}\n"
      ],
      "text/markdown": [
       "1. 0.25\n",
       "2. 1.25\n",
       "\n",
       "\n"
      ],
      "text/plain": [
       "[1] 0.25 1.25"
      ]
     },
     "metadata": {},
     "output_type": "display_data"
    },
    {
     "data": {
      "text/html": [
       "0.395284707521047"
      ],
      "text/latex": [
       "0.395284707521047"
      ],
      "text/markdown": [
       "0.395284707521047"
      ],
      "text/plain": [
       "[1] 0.3952847"
      ]
     },
     "metadata": {},
     "output_type": "display_data"
    },
    {
     "data": {
      "text/html": [
       "0.15625"
      ],
      "text/latex": [
       "0.15625"
      ],
      "text/markdown": [
       "0.15625"
      ],
      "text/plain": [
       "[1] 0.15625"
      ]
     },
     "metadata": {},
     "output_type": "display_data"
    }
   ],
   "source": [
    "round(x, 0)\n",
    "floor(x)\n",
    "ceiling(x)\n",
    "trunc(x)\n",
    "abs(-10)\n",
    "log(10, base = 2)\n",
    "sqrt(10)\n",
    "exp(10)\n",
    "sum(x)\n",
    "mean(x)\n",
    "median(x)\n",
    "max(x)\n",
    "min(x)\n",
    "range(x)\n",
    "sd(x)\n",
    "var(x)"
   ]
  },
  {
   "cell_type": "code",
   "execution_count": 8,
   "id": "superior-reminder",
   "metadata": {},
   "outputs": [
    {
     "data": {
      "image/png": "[encoded data removed]",
      "text/plain": [
       "plot without title"
      ]
     },
     "metadata": {},
     "output_type": "display_data"
    }
   ],
   "source": [
    "plot(iris$Petal.Length)"
   ]
  },
  {
   "cell_type": "code",
   "execution_count": 9,
   "id": "dental-jacksonville",
   "metadata": {},
   "outputs": [
    {
     "data": {
      "image/png": "[encoded data removed]",
      "text/plain": [
       "plot without title"
      ]
     },
     "metadata": {},
     "output_type": "display_data"
    }
   ],
   "source": [
    "plot(iris$Petal.Length, iris$Petal.Width)"
   ]
  },
  {
   "cell_type": "code",
   "execution_count": 10,
   "id": "functional-worcester",
   "metadata": {},
   "outputs": [
    {
     "data": {
      "image/png": "[encoded data removed]",
      "text/plain": [
       "Plot with title \"iris data\""
      ]
     },
     "metadata": {},
     "output_type": "display_data"
    }
   ],
   "source": [
    "plot(iris$Petal.Length, iris$Petal.Width, main = 'iris data', xlab = 'PetalLength', ylab = 'Petal Width', col = iris$Species)"
   ]
  },
  {
   "cell_type": "code",
   "execution_count": 11,
   "id": "offensive-specification",
   "metadata": {},
   "outputs": [
    {
     "data": {
      "image/png": "[encoded data removed]",
      "text/plain": [
       "plot without title"
      ]
     },
     "metadata": {},
     "output_type": "display_data"
    }
   ],
   "source": [
    "pairs(~Sepal.Width + Sepal.Length + Petal.Width + Petal.Length, data = iris, col = iris$Species)"
   ]
  },
  {
   "cell_type": "code",
   "execution_count": 14,
   "id": "three-cruise",
   "metadata": {},
   "outputs": [
    {
     "data": {
      "image/png": "[encoded data removed]",
      "text/plain": [
       "Plot with title \"Histogram of iris$Sepal.Width\""
      ]
     },
     "metadata": {},
     "output_type": "display_data"
    }
   ],
   "source": [
    "hist(iris$Sepal.Width)"
   ]
  },
  {
   "cell_type": "code",
   "execution_count": 15,
   "id": "korean-screen",
   "metadata": {},
   "outputs": [
    {
     "data": {
      "image/png": "[encoded data removed]",
      "text/plain": [
       "Plot with title \"Histogram of iris$Sepal.Width\""
      ]
     },
     "metadata": {},
     "output_type": "display_data"
    }
   ],
   "source": [
    "hist(iris$Sepal.Width, freq = FALSE)"
   ]
  },
  {
   "cell_type": "code",
   "execution_count": 17,
   "id": "fitted-exclusive",
   "metadata": {},
   "outputs": [
    {
     "data": {
      "image/png": "[encoded data removed]",
      "text/plain": [
       "plot without title"
      ]
     },
     "metadata": {},
     "output_type": "display_data"
    }
   ],
   "source": [
    "# 막대그래프는 집단간의 차이를 알려준다.\n",
    "x <- aggregate(Petal.Length ~ Species, iris, mean)\n",
    "barplot(x$Petal.Length, names = x$Species)"
   ]
  },
  {
   "cell_type": "code",
   "execution_count": 19,
   "id": "coordinate-gambling",
   "metadata": {},
   "outputs": [
    {
     "data": {
      "image/png": "[encoded data removed]",
      "text/plain": [
       "plot without title"
      ]
     },
     "metadata": {},
     "output_type": "display_data"
    }
   ],
   "source": [
    "# 파이차트는 데이터의 비율\n",
    "x <- aggregate(Petal.Length ~ Species, iris, sum)\n",
    "pie(x$Petal.Length, labels = x$Species)"
   ]
  },
  {
   "cell_type": "code",
   "execution_count": 22,
   "id": "flexible-mirror",
   "metadata": {},
   "outputs": [
    {
     "data": {
      "text/html": [
       "<dl class=dl-horizontal>\n",
       "\t<dt>0.1</dt>\n",
       "\t\t<dd>1.38</dd>\n",
       "\t<dt>0.2</dt>\n",
       "\t\t<dd>1.4448275862069</dd>\n",
       "\t<dt>0.3</dt>\n",
       "\t\t<dd>1.42857142857143</dd>\n",
       "\t<dt>0.4</dt>\n",
       "\t\t<dd>1.57142857142857</dd>\n",
       "\t<dt>0.5</dt>\n",
       "\t\t<dd>1.7</dd>\n",
       "\t<dt>0.6</dt>\n",
       "\t\t<dd>1.6</dd>\n",
       "\t<dt>1</dt>\n",
       "\t\t<dd>3.62857142857143</dd>\n",
       "\t<dt>1.1</dt>\n",
       "\t\t<dd>3.56666666666667</dd>\n",
       "\t<dt>1.2</dt>\n",
       "\t\t<dd>4.24</dd>\n",
       "\t<dt>1.3</dt>\n",
       "\t\t<dd>4.17692307692308</dd>\n",
       "\t<dt>1.4</dt>\n",
       "\t\t<dd>4.6375</dd>\n",
       "\t<dt>1.5</dt>\n",
       "\t\t<dd>4.65833333333333</dd>\n",
       "\t<dt>1.6</dt>\n",
       "\t\t<dd>5.025</dd>\n",
       "\t<dt>1.7</dt>\n",
       "\t\t<dd>4.75</dd>\n",
       "\t<dt>1.8</dt>\n",
       "\t\t<dd>5.33333333333333</dd>\n",
       "\t<dt>1.9</dt>\n",
       "\t\t<dd>5.32</dd>\n",
       "\t<dt>2</dt>\n",
       "\t\t<dd>5.55</dd>\n",
       "\t<dt>2.1</dt>\n",
       "\t\t<dd>5.78333333333333</dd>\n",
       "\t<dt>2.2</dt>\n",
       "\t\t<dd>6.03333333333333</dd>\n",
       "\t<dt>2.3</dt>\n",
       "\t\t<dd>5.7</dd>\n",
       "\t<dt>2.4</dt>\n",
       "\t\t<dd>5.43333333333333</dd>\n",
       "\t<dt>2.5</dt>\n",
       "\t\t<dd>5.93333333333333</dd>\n",
       "</dl>\n"
      ],
      "text/latex": [
       "\\begin{description*}\n",
       "\\item[0.1] 1.38\n",
       "\\item[0.2] 1.4448275862069\n",
       "\\item[0.3] 1.42857142857143\n",
       "\\item[0.4] 1.57142857142857\n",
       "\\item[0.5] 1.7\n",
       "\\item[0.6] 1.6\n",
       "\\item[1] 3.62857142857143\n",
       "\\item[1.1] 3.56666666666667\n",
       "\\item[1.2] 4.24\n",
       "\\item[1.3] 4.17692307692308\n",
       "\\item[1.4] 4.6375\n",
       "\\item[1.5] 4.65833333333333\n",
       "\\item[1.6] 5.025\n",
       "\\item[1.7] 4.75\n",
       "\\item[1.8] 5.33333333333333\n",
       "\\item[1.9] 5.32\n",
       "\\item[2] 5.55\n",
       "\\item[2.1] 5.78333333333333\n",
       "\\item[2.2] 6.03333333333333\n",
       "\\item[2.3] 5.7\n",
       "\\item[2.4] 5.43333333333333\n",
       "\\item[2.5] 5.93333333333333\n",
       "\\end{description*}\n"
      ],
      "text/markdown": [
       "0.1\n",
       ":   1.380.2\n",
       ":   1.44482758620690.3\n",
       ":   1.428571428571430.4\n",
       ":   1.571428571428570.5\n",
       ":   1.70.6\n",
       ":   1.61\n",
       ":   3.628571428571431.1\n",
       ":   3.566666666666671.2\n",
       ":   4.241.3\n",
       ":   4.176923076923081.4\n",
       ":   4.63751.5\n",
       ":   4.658333333333331.6\n",
       ":   5.0251.7\n",
       ":   4.751.8\n",
       ":   5.333333333333331.9\n",
       ":   5.322\n",
       ":   5.552.1\n",
       ":   5.783333333333332.2\n",
       ":   6.033333333333332.3\n",
       ":   5.72.4\n",
       ":   5.433333333333332.5\n",
       ":   5.93333333333333\n",
       "\n"
      ],
      "text/plain": [
       "     0.1      0.2      0.3      0.4      0.5      0.6        1      1.1 \n",
       "1.380000 1.444828 1.428571 1.571429 1.700000 1.600000 3.628571 3.566667 \n",
       "     1.2      1.3      1.4      1.5      1.6      1.7      1.8      1.9 \n",
       "4.240000 4.176923 4.637500 4.658333 5.025000 4.750000 5.333333 5.320000 \n",
       "       2      2.1      2.2      2.3      2.4      2.5 \n",
       "5.550000 5.783333 6.033333 5.700000 5.433333 5.933333 "
      ]
     },
     "metadata": {},
     "output_type": "display_data"
    },
    {
     "data": {
      "image/png": "[encoded data removed]",
      "text/plain": [
       "plot without title"
      ]
     },
     "metadata": {},
     "output_type": "display_data"
    }
   ],
   "source": [
    "# iris$Petal.Width를 그룹으로 iris$Petal.Length 평균을 구함\n",
    "x <- tapply(iris$Petal.Length, iris$Petal.Width, mean)\n",
    "x\n",
    "plot(x, type = 'o')"
   ]
  },
  {
   "cell_type": "code",
   "execution_count": 24,
   "id": "warming-toyota",
   "metadata": {},
   "outputs": [
    {
     "data": {
      "text/html": [
       "<table>\n",
       "<thead><tr><th></th><th scope=col>Fertility</th><th scope=col>Agriculture</th><th scope=col>Examination</th><th scope=col>Education</th><th scope=col>Catholic</th><th scope=col>Infant.Mortality</th></tr></thead>\n",
       "<tbody>\n",
       "\t<tr><th scope=row>Courtelary</th><td>80.2 </td><td>17.0 </td><td>15   </td><td>12   </td><td> 9.96</td><td>22.2 </td></tr>\n",
       "\t<tr><th scope=row>Delemont</th><td>83.1 </td><td>45.1 </td><td> 6   </td><td> 9   </td><td>84.84</td><td>22.2 </td></tr>\n",
       "\t<tr><th scope=row>Franches-Mnt</th><td>92.5 </td><td>39.7 </td><td> 5   </td><td> 5   </td><td>93.40</td><td>20.2 </td></tr>\n",
       "\t<tr><th scope=row>Moutier</th><td>85.8 </td><td>36.5 </td><td>12   </td><td> 7   </td><td>33.77</td><td>20.3 </td></tr>\n",
       "\t<tr><th scope=row>Neuveville</th><td>76.9 </td><td>43.5 </td><td>17   </td><td>15   </td><td> 5.16</td><td>20.6 </td></tr>\n",
       "\t<tr><th scope=row>Porrentruy</th><td>76.1 </td><td>35.3 </td><td> 9   </td><td> 7   </td><td>90.57</td><td>26.6 </td></tr>\n",
       "</tbody>\n",
       "</table>\n"
      ],
      "text/latex": [
       "\\begin{tabular}{r|llllll}\n",
       "  & Fertility & Agriculture & Examination & Education & Catholic & Infant.Mortality\\\\\n",
       "\\hline\n",
       "\tCourtelary & 80.2  & 17.0  & 15    & 12    &  9.96 & 22.2 \\\\\n",
       "\tDelemont & 83.1  & 45.1  &  6    &  9    & 84.84 & 22.2 \\\\\n",
       "\tFranches-Mnt & 92.5  & 39.7  &  5    &  5    & 93.40 & 20.2 \\\\\n",
       "\tMoutier & 85.8  & 36.5  & 12    &  7    & 33.77 & 20.3 \\\\\n",
       "\tNeuveville & 76.9  & 43.5  & 17    & 15    &  5.16 & 20.6 \\\\\n",
       "\tPorrentruy & 76.1  & 35.3  &  9    &  7    & 90.57 & 26.6 \\\\\n",
       "\\end{tabular}\n"
      ],
      "text/markdown": [
       "\n",
       "| <!--/--> | Fertility | Agriculture | Examination | Education | Catholic | Infant.Mortality |\n",
       "|---|---|---|---|---|---|---|\n",
       "| Courtelary | 80.2  | 17.0  | 15    | 12    |  9.96 | 22.2  |\n",
       "| Delemont | 83.1  | 45.1  |  6    |  9    | 84.84 | 22.2  |\n",
       "| Franches-Mnt | 92.5  | 39.7  |  5    |  5    | 93.40 | 20.2  |\n",
       "| Moutier | 85.8  | 36.5  | 12    |  7    | 33.77 | 20.3  |\n",
       "| Neuveville | 76.9  | 43.5  | 17    | 15    |  5.16 | 20.6  |\n",
       "| Porrentruy | 76.1  | 35.3  |  9    |  7    | 90.57 | 26.6  |\n",
       "\n"
      ],
      "text/plain": [
       "             Fertility Agriculture Examination Education Catholic\n",
       "Courtelary   80.2      17.0        15          12         9.96   \n",
       "Delemont     83.1      45.1         6           9        84.84   \n",
       "Franches-Mnt 92.5      39.7         5           5        93.40   \n",
       "Moutier      85.8      36.5        12           7        33.77   \n",
       "Neuveville   76.9      43.5        17          15         5.16   \n",
       "Porrentruy   76.1      35.3         9           7        90.57   \n",
       "             Infant.Mortality\n",
       "Courtelary   22.2            \n",
       "Delemont     22.2            \n",
       "Franches-Mnt 20.2            \n",
       "Moutier      20.3            \n",
       "Neuveville   20.6            \n",
       "Porrentruy   26.6            "
      ]
     },
     "metadata": {},
     "output_type": "display_data"
    }
   ],
   "source": [
    "head(swiss)"
   ]
  },
  {
   "cell_type": "code",
   "execution_count": 25,
   "id": "intellectual-mason",
   "metadata": {},
   "outputs": [
    {
     "data": {
      "text/html": [
       "<table>\n",
       "<thead><tr><th></th><th scope=col>Fertility</th><th scope=col>Agriculture</th><th scope=col>Examination</th><th scope=col>Education</th><th scope=col>Catholic</th><th scope=col>Infant.Mortality</th></tr></thead>\n",
       "<tbody>\n",
       "\t<tr><th scope=row>Neuchatel</th><td>64.4 </td><td>17.6 </td><td>35   </td><td>32   </td><td>16.92</td><td>23.0 </td></tr>\n",
       "\t<tr><th scope=row>Val de Ruz</th><td>77.6 </td><td>37.6 </td><td>15   </td><td> 7   </td><td> 4.97</td><td>20.0 </td></tr>\n",
       "\t<tr><th scope=row>ValdeTravers</th><td>67.6 </td><td>18.7 </td><td>25   </td><td> 7   </td><td> 8.65</td><td>19.5 </td></tr>\n",
       "\t<tr><th scope=row>V. De Geneve</th><td>35.0 </td><td> 1.2 </td><td>37   </td><td>53   </td><td>42.34</td><td>18.0 </td></tr>\n",
       "\t<tr><th scope=row>Rive Droite</th><td>44.7 </td><td>46.6 </td><td>16   </td><td>29   </td><td>50.43</td><td>18.2 </td></tr>\n",
       "\t<tr><th scope=row>Rive Gauche</th><td>42.8 </td><td>27.7 </td><td>22   </td><td>29   </td><td>58.33</td><td>19.3 </td></tr>\n",
       "</tbody>\n",
       "</table>\n"
      ],
      "text/latex": [
       "\\begin{tabular}{r|llllll}\n",
       "  & Fertility & Agriculture & Examination & Education & Catholic & Infant.Mortality\\\\\n",
       "\\hline\n",
       "\tNeuchatel & 64.4  & 17.6  & 35    & 32    & 16.92 & 23.0 \\\\\n",
       "\tVal de Ruz & 77.6  & 37.6  & 15    &  7    &  4.97 & 20.0 \\\\\n",
       "\tValdeTravers & 67.6  & 18.7  & 25    &  7    &  8.65 & 19.5 \\\\\n",
       "\tV. De Geneve & 35.0  &  1.2  & 37    & 53    & 42.34 & 18.0 \\\\\n",
       "\tRive Droite & 44.7  & 46.6  & 16    & 29    & 50.43 & 18.2 \\\\\n",
       "\tRive Gauche & 42.8  & 27.7  & 22    & 29    & 58.33 & 19.3 \\\\\n",
       "\\end{tabular}\n"
      ],
      "text/markdown": [
       "\n",
       "| <!--/--> | Fertility | Agriculture | Examination | Education | Catholic | Infant.Mortality |\n",
       "|---|---|---|---|---|---|---|\n",
       "| Neuchatel | 64.4  | 17.6  | 35    | 32    | 16.92 | 23.0  |\n",
       "| Val de Ruz | 77.6  | 37.6  | 15    |  7    |  4.97 | 20.0  |\n",
       "| ValdeTravers | 67.6  | 18.7  | 25    |  7    |  8.65 | 19.5  |\n",
       "| V. De Geneve | 35.0  |  1.2  | 37    | 53    | 42.34 | 18.0  |\n",
       "| Rive Droite | 44.7  | 46.6  | 16    | 29    | 50.43 | 18.2  |\n",
       "| Rive Gauche | 42.8  | 27.7  | 22    | 29    | 58.33 | 19.3  |\n",
       "\n"
      ],
      "text/plain": [
       "             Fertility Agriculture Examination Education Catholic\n",
       "Neuchatel    64.4      17.6        35          32        16.92   \n",
       "Val de Ruz   77.6      37.6        15           7         4.97   \n",
       "ValdeTravers 67.6      18.7        25           7         8.65   \n",
       "V. De Geneve 35.0       1.2        37          53        42.34   \n",
       "Rive Droite  44.7      46.6        16          29        50.43   \n",
       "Rive Gauche  42.8      27.7        22          29        58.33   \n",
       "             Infant.Mortality\n",
       "Neuchatel    23.0            \n",
       "Val de Ruz   20.0            \n",
       "ValdeTravers 19.5            \n",
       "V. De Geneve 18.0            \n",
       "Rive Droite  18.2            \n",
       "Rive Gauche  19.3            "
      ]
     },
     "metadata": {},
     "output_type": "display_data"
    }
   ],
   "source": [
    "tail(swiss)"
   ]
  },
  {
   "cell_type": "code",
   "execution_count": 26,
   "id": "polish-refund",
   "metadata": {},
   "outputs": [
    {
     "data": {
      "text/html": [
       "<ol class=list-inline>\n",
       "\t<li>47</li>\n",
       "\t<li>6</li>\n",
       "</ol>\n"
      ],
      "text/latex": [
       "\\begin{enumerate*}\n",
       "\\item 47\n",
       "\\item 6\n",
       "\\end{enumerate*}\n"
      ],
      "text/markdown": [
       "1. 47\n",
       "2. 6\n",
       "\n",
       "\n"
      ],
      "text/plain": [
       "[1] 47  6"
      ]
     },
     "metadata": {},
     "output_type": "display_data"
    }
   ],
   "source": [
    "dim(swiss)"
   ]
  },
  {
   "cell_type": "code",
   "execution_count": 29,
   "id": "suited-penalty",
   "metadata": {},
   "outputs": [
    {
     "data": {
      "image/png": "[encoded data removed]",
      "text/plain": [
       "Plot with title \"This is swiss\""
      ]
     },
     "metadata": {},
     "output_type": "display_data"
    }
   ],
   "source": [
    "plot(swiss$Examination, main = 'This is swiss', col = swiss$Fertility)"
   ]
  },
  {
   "cell_type": "code",
   "execution_count": 30,
   "id": "modular-travel",
   "metadata": {},
   "outputs": [
    {
     "data": {
      "image/png": "[encoded data removed]",
      "text/plain": [
       "plot without title"
      ]
     },
     "metadata": {},
     "output_type": "display_data"
    }
   ],
   "source": [
    "pairs(~Examination + Fertility + Agriculture + Education, data = swiss, col = swiss$Education)"
   ]
  },
  {
   "cell_type": "code",
   "execution_count": 32,
   "id": "published-somalia",
   "metadata": {},
   "outputs": [
    {
     "data": {
      "image/png": "[encoded data removed]",
      "text/plain": [
       "Plot with title \"Histogram of swiss$Education\""
      ]
     },
     "metadata": {},
     "output_type": "display_data"
    }
   ],
   "source": [
    "hist(swiss$Education, freq = FALSE)"
   ]
  },
  {
   "cell_type": "code",
   "execution_count": 35,
   "id": "composite-vision",
   "metadata": {},
   "outputs": [
    {
     "data": {
      "image/png": "[encoded data removed]",
      "text/plain": [
       "plot without title"
      ]
     },
     "metadata": {},
     "output_type": "display_data"
    }
   ],
   "source": [
    "x <- aggregate(Fertility ~ Education, swiss, mean)\n",
    "barplot(x$Fertility, names = x$Education)"
   ]
  },
  {
   "cell_type": "code",
   "execution_count": 36,
   "id": "absolute-ireland",
   "metadata": {},
   "outputs": [
    {
     "data": {
      "image/png": "[encoded data removed]",
      "text/plain": [
       "plot without title"
      ]
     },
     "metadata": {},
     "output_type": "display_data"
    }
   ],
   "source": [
    "x <- aggregate(Fertility ~ Education, swiss, sum)\n",
    "pie(x$Fertility, labels = x$Education)"
   ]
  },
  {
   "cell_type": "code",
   "execution_count": null,
   "id": "bridal-funeral",
   "metadata": {},
   "outputs": [],
   "source": []
  }
 ],
 "metadata": {
  "kernelspec": {
   "display_name": "R",
   "language": "R",
   "name": "ir"
  },
  "language_info": {
   "codemirror_mode": "r",
   "file_extension": ".r",
   "mimetype": "text/x-r-source",
   "name": "R",
   "pygments_lexer": "r",
   "version": "3.6.1"
  }
 },
 "nbformat": 4,
 "nbformat_minor": 5
}
